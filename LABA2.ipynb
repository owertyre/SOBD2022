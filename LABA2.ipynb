{
 "cells": [
  {
   "cell_type": "markdown",
   "id": "389973db-fd76-43ee-91e3-ca330576c1ac",
   "metadata": {},
   "source": [
    "# 1 часть"
   ]
  },
  {
   "cell_type": "code",
   "execution_count": 139,
   "id": "606ab1f5-34eb-4414-8cc1-18ffdf160b31",
   "metadata": {},
   "outputs": [
    {
     "name": "stdout",
     "output_type": "stream",
     "text": [
      "+---+------+------------------+-------------+--------+--------+------+-------+------------+-----+-------+-----------+\n",
      "|_c0| brand|              name|     bodyType|   color|fuelType|  year|mileage|transmission|power|  price|   location|\n",
      "+---+------+------------------+-------------+--------+--------+------+-------+------------+-----+-------+-----------+\n",
      "|  0|Nissan|              Note|Хэтчбек 5 дв.|   Серый|  Бензин|2016.0|  58000|    Вариатор| 79.0| 850000|      Артём|\n",
      "|  1|Toyota|           Harrier|   Джип 5 дв.|   Белый|  Бензин|2017.0|  20000|        АКПП|231.0|3300000|Владивосток|\n",
      "|  2|Nissan|              Juke|   Джип 5 дв.|Бордовый|  Бензин|2010.0|  40000|    Вариатор|114.0| 795000|  Уссурийск|\n",
      "|  3|Nissan|           Liberty|      Минивэн|   Белый|  Бензин|2002.0| 140000|    Вариатор|147.0| 235000|  Лучегорск|\n",
      "|  4|Toyota|Land Cruiser Prado|   Джип 5 дв.|   Белый|  Дизель|2017.0|  41000|        АКПП|177.0|3450000|Владивосток|\n",
      "|  5|Nissan|             NV200|      Минивэн|   Белый|  Бензин|2014.0| 172000|        АКПП|109.0|1060000|  Уссурийск|\n",
      "|  6| Honda|             Vezel|   Джип 5 дв.|   Белый|  Бензин|2013.0|  86000|       Робот|132.0|1190000|Владивосток|\n",
      "|  7|Nissan|              Juke|   Джип 5 дв.|   Серый|  Бензин|2010.0| 140000|    Вариатор|190.0| 630000|Владивосток|\n",
      "|  8|Toyota|           Harrier|   Джип 5 дв.|   Синий|  Бензин|2014.0| 101000|    Вариатор|152.0|2145000|  Уссурийск|\n",
      "|  9| Honda|             Vezel|   Джип 5 дв.|   Серый|  Бензин|2013.0| 133000|       Робот|132.0|1320000|      Артём|\n",
      "+---+------+------------------+-------------+--------+--------+------+-------+------------+-----+-------+-----------+\n",
      "only showing top 10 rows\n",
      "\n"
     ]
    }
   ],
   "source": [
    "from pyspark.sql.types import *\n",
    "from pyspark.sql.functions import *\n",
    "from pyspark.sql import SparkSession\n",
    "\n",
    "from pyspark.ml import Pipeline\n",
    "from pyspark.ml.feature import VectorAssembler, StringIndexer, VectorIndexer, MinMaxScaler\n",
    "from pyspark.ml.regression import RandomForestRegressor\n",
    "from pyspark.ml.classification import LogisticRegression\n",
    "from pyspark.ml.tuning import ParamGridBuilder, CrossValidator\n",
    "from pyspark.ml.evaluation import RegressionEvaluator, BinaryClassificationEvaluator\n",
    "\n",
    "spark = SparkSession.builder.master(\"local[*]\").getOrCreate()\n",
    "filename_data = 'mycsv.csv'\n",
    "csv = spark.read.csv(filename_data, inferSchema=True, header=True)\n",
    "csv = csv.withColumn('mileage', csv.mileage.cast(IntegerType()))\n",
    "csv.show(10)"
   ]
  },
  {
   "cell_type": "code",
   "execution_count": 66,
   "id": "2d589a38-dd96-42b3-86fd-8dc58f4106c7",
   "metadata": {},
   "outputs": [
    {
     "name": "stdout",
     "output_type": "stream",
     "text": [
      "Training Rows: 608541  Testing Rows: 260160\n"
     ]
    }
   ],
   "source": [
    "splits = csv.randomSplit([0.7, 0.3])\n",
    "train = splits[0]\n",
    "test = splits[1].withColumnRenamed(\"price\", \"truePrice\")\n",
    "train_rows = train.count()\n",
    "test_rows = test.count()\n",
    "print(\"Training Rows:\", train_rows, \" Testing Rows:\", test_rows)"
   ]
  },
  {
   "cell_type": "code",
   "execution_count": 67,
   "id": "507dff64-58f8-417f-8238-947d01ebd352",
   "metadata": {},
   "outputs": [],
   "source": [
    "strIdx = StringIndexer(inputCols = ['brand', 'name', 'fuelType','transmission', 'color', 'bodyType', 'location'], \n",
    "                       outputCols = ['brand_index', 'name_index', 'fuelType_index', 'transmission_index', 'color_index', 'bodyType_index', 'location_index'], \n",
    "                       handleInvalid = \"keep\")\n",
    "catVect = VectorAssembler(inputCols = ['brand_index', 'name_index', 'fuelType_index', 'transmission_index', 'color_index', 'bodyType_index', 'location_index'],\n",
    "                          outputCol=\"features_cat\")\n",
    "catIdx = VectorIndexer(inputCol = catVect.getOutputCol(), \n",
    "                       outputCol = \"features_index\", \n",
    "                       handleInvalid = \"keep\")\n",
    "numVect = VectorAssembler(inputCols = [\"mileage\",'power', 'year'], \n",
    "                          outputCol=\"features_num\", \n",
    "                          handleInvalid = \"keep\")\n",
    "minMax = MinMaxScaler(inputCol = numVect.getOutputCol(), \n",
    "                      outputCol=\"features_norm\")\n",
    "featVect = VectorAssembler(inputCols=[\"features_index\", \"features_norm\"], \n",
    "                           outputCol=\"features\", \n",
    "                           handleInvalid = \"keep\")\n",
    "rfr = RandomForestRegressor(featuresCol = 'features', \n",
    "                      labelCol='price',\n",
    "                      numTrees = 10,\n",
    "                      maxDepth=2,\n",
    "                      maxBins = 181834)\n",
    "pipeline = Pipeline(stages=[strIdx, catVect, catIdx, numVect, minMax, featVect, rfr])"
   ]
  },
  {
   "cell_type": "code",
   "execution_count": 68,
   "id": "35bc5313-13fd-4628-a247-920306262aec",
   "metadata": {},
   "outputs": [],
   "source": [
    "pipelineModel = pipeline.fit(train)"
   ]
  },
  {
   "cell_type": "code",
   "execution_count": 69,
   "id": "892fd743-02a2-4f28-b1cb-19fa94d0fc40",
   "metadata": {},
   "outputs": [
    {
     "name": "stdout",
     "output_type": "stream",
     "text": [
      "+--------------------+------------------+---------+\n",
      "|            features|        prediction|truePrice|\n",
      "+--------------------+------------------+---------+\n",
      "|[2.0,6.0,0.0,0.0,...| 802180.7706852386|   850000|\n",
      "|(10,[1,3,7,8,9],[...| 2332183.433996185|  3300000|\n",
      "|[2.0,30.0,0.0,0.0...| 797034.0150764396|   795000|\n",
      "|[1.0,5.0,0.0,2.0,...| 1252915.561372306|  1190000|\n",
      "|[0.0,2.0,0.0,0.0,...| 2332183.433996185|  2145000|\n",
      "|[1.0,5.0,0.0,2.0,...| 1252915.561372306|  1320000|\n",
      "|(10,[1,7,8,9],[2....| 2332183.433996185|  2475000|\n",
      "|[6.0,68.0,0.0,1.0...| 2332183.433996185|  3400000|\n",
      "|[0.0,23.0,0.0,0.0...| 802180.7706852386|   915000|\n",
      "|[7.0,32.0,0.0,3.0...| 772155.3779051815|   960000|\n",
      "|[1.0,27.0,0.0,1.0...| 745705.2556317279|   225000|\n",
      "|(10,[1,7,8,9],[2....| 2332183.433996185|  3300000|\n",
      "|[5.0,262.0,0.0,1....| 567437.0704955963|   120000|\n",
      "|[5.0,40.0,0.0,1.0...| 716864.6698205115|   695000|\n",
      "|[0.0,0.0,0.0,0.0,...| 827263.4592175775|   800000|\n",
      "|(10,[0,1,7,8,9],[...|1447165.5175160302|  1620000|\n",
      "|[0.0,57.0,1.0,1.0...|1018487.1179292509|  1140000|\n",
      "|(10,[1,5,7,8,9],[...|1982779.0425010324|  1750000|\n",
      "|[1.0,53.0,0.0,1.0...| 596277.6563068127|   730000|\n",
      "|[0.0,7.0,0.0,0.0,...|1982779.0425010324|  2520000|\n",
      "+--------------------+------------------+---------+\n",
      "only showing top 20 rows\n",
      "\n"
     ]
    }
   ],
   "source": [
    "pred_df = pipelineModel.transform(test)\n",
    "pred_df.select(\"features\", \"prediction\", \"truePrice\").show()"
   ]
  },
  {
   "cell_type": "code",
   "execution_count": 70,
   "id": "b38d9c64-31fe-4f6f-83d6-af98bdc09b7a",
   "metadata": {},
   "outputs": [],
   "source": [
    "from pyspark.ml.evaluation import RegressionEvaluator\n",
    "\n",
    "regressionEvaluator = RegressionEvaluator(predictionCol=\"prediction\", labelCol=\"truePrice\", metricName=\"rmse\")"
   ]
  },
  {
   "cell_type": "code",
   "execution_count": 71,
   "id": "dcbbfbf9-133a-428f-a11e-209dbd929746",
   "metadata": {},
   "outputs": [
    {
     "name": "stdout",
     "output_type": "stream",
     "text": [
      "The RMSE for the random forest regression model is 431613.85\n",
      "The MSE for the random forest regression model is 186290516643.19\n",
      "The R2 for the random forest regression model is 0.74\n",
      "The MAE for the random forest regression model is 311640.15\n"
     ]
    }
   ],
   "source": [
    "\n",
    "# RMSE\n",
    "rmse = regressionEvaluator.evaluate(pred_df)\n",
    "print(f\"The RMSE for the random forest regression model is {rmse:0.2f}\")\n",
    "# MSE\n",
    "mse = regressionEvaluator.setMetricName(\"mse\").evaluate(pred_df)\n",
    "print(f\"The MSE for the random forest regression model is {mse:0.2f}\")\n",
    "# R2\n",
    "r2 = regressionEvaluator.setMetricName(\"r2\").evaluate(pred_df)\n",
    "print(f\"The R2 for the random forest regression model is {r2:0.2f}\")\n",
    "# MAE\n",
    "mae = regressionEvaluator.setMetricName(\"mae\").evaluate(pred_df)\n",
    "print(f\"The MAE for the random forest regression model is {mae:0.2f}\")"
   ]
  },
  {
   "cell_type": "code",
   "execution_count": 72,
   "id": "a94bf221-3cfe-46b8-99eb-52da52b34321",
   "metadata": {},
   "outputs": [],
   "source": [
    "param_grid = ParamGridBuilder().\\\n",
    "    addGrid(rfr.numTrees, [10, 15, 20]).\\\n",
    "    addGrid(rfr.maxDepth, [1, 2, 4]).\\\n",
    "    addGrid(rfr.maxBins , [181834, 362432, 724864]).\\\n",
    "    build()"
   ]
  },
  {
   "cell_type": "code",
   "execution_count": 73,
   "id": "0db0cee3-c479-41c3-80d9-f236ae2646da",
   "metadata": {},
   "outputs": [],
   "source": [
    "cv = CrossValidator(estimator=pipeline, \\\n",
    "                    estimatorParamMaps=param_grid, \\\n",
    "                    evaluator=RegressionEvaluator(\n",
    "                                predictionCol=\"prediction\", \\\n",
    "                                labelCol=\"price\", \\\n",
    "                                metricName=\"rmse\"), \\\n",
    "                    numFolds=2)"
   ]
  },
  {
   "cell_type": "code",
   "execution_count": 74,
   "id": "09b91df3-b4f5-4880-ad3e-518b21f6d71c",
   "metadata": {},
   "outputs": [],
   "source": [
    "cv_model = cv.fit(train)"
   ]
  },
  {
   "cell_type": "code",
   "execution_count": 75,
   "id": "092b7f1e-cc42-4525-ba00-728a89bc02e0",
   "metadata": {},
   "outputs": [],
   "source": [
    "newPrediction = cv_model.transform(test)"
   ]
  },
  {
   "cell_type": "code",
   "execution_count": 76,
   "id": "830e4822-2794-4ff1-a423-39f407384f83",
   "metadata": {},
   "outputs": [
    {
     "name": "stdout",
     "output_type": "stream",
     "text": [
      "The RMSE for the random forest regression model is 187563.54\n",
      "The MSE for the random forest regression model is 72318029546.16\n",
      "The R2 for the random forest regression model is 0.90\n",
      "The MAE for the random forest regression model is 187563.54\n"
     ]
    }
   ],
   "source": [
    "# RMSE\n",
    "rmse = regressionEvaluator.evaluate(newPrediction)\n",
    "print(f\"The RMSE for the random forest regression model is {rmse:0.2f}\")\n",
    "# MSE\n",
    "mse = regressionEvaluator.setMetricName(\"mse\").evaluate(newPrediction)\n",
    "print(f\"The MSE for the random forest regression model is {mse:0.2f}\")\n",
    "# R2\n",
    "r2 = regressionEvaluator.setMetricName(\"r2\").evaluate(newPrediction)\n",
    "print(f\"The R2 for the random forest regression model is {r2:0.2f}\")\n",
    "# MAE\n",
    "mae = regressionEvaluator.setMetricName(\"mae\").evaluate(newPrediction)\n",
    "print(f\"The MAE for the random forest regression model is {mae:0.2f}\")"
   ]
  },
  {
   "cell_type": "markdown",
   "id": "875aea6a-aede-448c-8465-9c93606c21a1",
   "metadata": {},
   "source": [
    "# 2 часть"
   ]
  },
  {
   "cell_type": "code",
   "execution_count": 140,
   "id": "d78e59e9-df43-472b-aa25-149024f97f57",
   "metadata": {},
   "outputs": [
    {
     "name": "stdout",
     "output_type": "stream",
     "text": [
      "+-------+------------------+-------------+-----------+--------+------+------------+-----+-------+-------------+-----+\n",
      "|  brand|              name|     bodyType|      color|fuelType|  year|transmission|power|  price|     location|label|\n",
      "+-------+------------------+-------------+-----------+--------+------+------------+-----+-------+-------------+-----+\n",
      "| Nissan|              Note|Хэтчбек 5 дв.|      Серый|  Бензин|2016.0|    Вариатор| 79.0| 850000|        Артём|    0|\n",
      "| Toyota|           Harrier|   Джип 5 дв.|      Белый|  Бензин|2017.0|        АКПП|231.0|3300000|  Владивосток|    0|\n",
      "| Nissan|              Juke|   Джип 5 дв.|   Бордовый|  Бензин|2010.0|    Вариатор|114.0| 795000|    Уссурийск|    0|\n",
      "| Nissan|           Liberty|      Минивэн|      Белый|  Бензин|2002.0|    Вариатор|147.0| 235000|    Лучегорск|    1|\n",
      "| Toyota|Land Cruiser Prado|   Джип 5 дв.|      Белый|  Дизель|2017.0|        АКПП|177.0|3450000|  Владивосток|    0|\n",
      "| Nissan|             NV200|      Минивэн|      Белый|  Бензин|2014.0|        АКПП|109.0|1060000|    Уссурийск|    1|\n",
      "|  Honda|             Vezel|   Джип 5 дв.|      Белый|  Бензин|2013.0|       Робот|132.0|1190000|  Владивосток|    0|\n",
      "| Nissan|              Juke|   Джип 5 дв.|      Серый|  Бензин|2010.0|    Вариатор|190.0| 630000|  Владивосток|    1|\n",
      "| Toyota|           Harrier|   Джип 5 дв.|      Синий|  Бензин|2014.0|    Вариатор|152.0|2145000|    Уссурийск|    0|\n",
      "|  Honda|             Vezel|   Джип 5 дв.|      Серый|  Бензин|2013.0|       Робот|132.0|1320000|        Артём|    1|\n",
      "| Toyota|             Crown|        Седан|      Белый|  Бензин|2017.0|    Вариатор|178.0|2499000|  Владивосток|    0|\n",
      "| Toyota|           Harrier|   Джип 5 дв.|      Белый|  Бензин|2016.0|    Вариатор|151.0|2475000|  Владивосток|    0|\n",
      "|  Mazda|              CX-5|   Джип 5 дв.|    Красный|  Дизель|2017.0|        АКПП|175.0|1750000|      Находка|    0|\n",
      "| Toyota|       Prius Alpha|      Минивэн|      Серый|  Бензин|2011.0|    Вариатор| 99.0|1100000|  Владивосток|    1|\n",
      "|Hyundai|              ix55|   Джип 5 дв.|Серебристый|  Дизель|2009.0|        АКПП|239.0| 840000|    Уссурийск|    1|\n",
      "|  Lexus|            RX200t|   Джип 5 дв.|Серебристый|  Бензин|2016.0|        АКПП|238.0|3400000|      Находка|    1|\n",
      "| Nissan|       Tiida Latio|        Седан|      Серый|  Бензин|2005.0|        АКПП|109.0| 325000|Дальнереченск|    1|\n",
      "| Nissan|              Note|Хэтчбек 5 дв.|      Белый|  Бензин|2016.0|        АКПП| 79.0|1111111|  Владивосток|    0|\n",
      "| Toyota|            Probox|    Универсал|      Синий|  Бензин|2018.0|    Вариатор|109.0| 915000|    Уссурийск|    0|\n",
      "|Hyundai|          Santa Fe|   Джип 5 дв.|      Серый|  Бензин|2000.0|        АКПП|185.0| 385000|  Владивосток|    1|\n",
      "+-------+------------------+-------------+-----------+--------+------+------------+-----+-------+-------------+-----+\n",
      "only showing top 20 rows\n",
      "\n"
     ]
    }
   ],
   "source": [
    "csv = csv.drop(csv._c0).withColumn('label', when(col('mileage') >= 129804.4, 1).otherwise(0))\n",
    "csv = csv.drop(csv.mileage)\n",
    "csv.show()"
   ]
  },
  {
   "cell_type": "code",
   "execution_count": 141,
   "id": "b3120561-3818-42e1-a741-dd33eca8c0b8",
   "metadata": {},
   "outputs": [
    {
     "name": "stdout",
     "output_type": "stream",
     "text": [
      "Training Rows: 608479  Testing Rows: 260222\n"
     ]
    }
   ],
   "source": [
    "splits = csv.randomSplit([0.7, 0.3])\n",
    "train = splits[0]\n",
    "test = splits[1].withColumnRenamed(\"label\", \"trueLabel\")\n",
    "print(\"Training Rows:\", train.count(), \" Testing Rows:\", test.count())"
   ]
  },
  {
   "cell_type": "code",
   "execution_count": 142,
   "id": "5aba434d-4d6d-4f6e-9861-5813c4a34b1a",
   "metadata": {},
   "outputs": [],
   "source": [
    "strIdx = StringIndexer(inputCols = ['brand', 'name', 'fuelType','transmission', 'color', 'bodyType', 'location'], \n",
    "                       outputCols = ['brand_index', 'name_index', 'fuelType_index', 'transmission_index', 'color_index', 'bodyType_index', 'location_index'], \n",
    "                       handleInvalid = \"keep\")\n",
    "catVect = VectorAssembler(inputCols = ['brand_index', 'name_index', 'fuelType_index', 'transmission_index', 'color_index', 'bodyType_index', 'location_index'],\n",
    "                          outputCol=\"features_cat\")\n",
    "catIdx = VectorIndexer(inputCol = catVect.getOutputCol(), \n",
    "                       outputCol = \"features_index\", \n",
    "                       handleInvalid = \"keep\")\n",
    "numVect = VectorAssembler(inputCols = ['power', 'year'], \n",
    "                          outputCol=\"features_num\", \n",
    "                          handleInvalid = \"keep\")\n",
    "minMax = MinMaxScaler(inputCol = numVect.getOutputCol(), \n",
    "                      outputCol=\"features_norm\")\n",
    "featVect = VectorAssembler(inputCols=[\"features_index\", \"features_norm\"], \n",
    "                           outputCol=\"features\", \n",
    "                           handleInvalid = \"keep\")\n",
    "lr = LogisticRegression(labelCol=\"label\", \n",
    "                        featuresCol=\"features\", \n",
    "                        maxIter=10,\n",
    "                        regParam=0.3)\n",
    "pipeline = Pipeline(stages=[strIdx, catVect, catIdx, numVect, minMax, featVect, lr])"
   ]
  },
  {
   "cell_type": "code",
   "execution_count": 143,
   "id": "a2cdf3d6-542f-45b0-8042-2ca6b529c1ff",
   "metadata": {},
   "outputs": [],
   "source": [
    "pipelineModel = pipeline.fit(train)"
   ]
  },
  {
   "cell_type": "code",
   "execution_count": 144,
   "id": "2a0b939f-2eae-46a1-9aca-a3942de71a9c",
   "metadata": {},
   "outputs": [
    {
     "name": "stdout",
     "output_type": "stream",
     "text": [
      "+--------------------+----------+---------+\n",
      "|            features|prediction|trueLabel|\n",
      "+--------------------+----------+---------+\n",
      "|[35.0,464.0,0.0,1...|       1.0|        0|\n",
      "|[18.0,224.0,0.0,2...|       0.0|        0|\n",
      "|[18.0,555.0,0.0,0...|       0.0|        1|\n",
      "|[18.0,555.0,0.0,0...|       0.0|        1|\n",
      "|[18.0,555.0,0.0,0...|       0.0|        1|\n",
      "|[18.0,218.0,1.0,2...|       0.0|        1|\n",
      "|[18.0,218.0,1.0,2...|       0.0|        1|\n",
      "|[18.0,218.0,1.0,2...|       0.0|        1|\n",
      "|[18.0,218.0,1.0,2...|       0.0|        1|\n",
      "|[18.0,218.0,1.0,2...|       0.0|        1|\n",
      "|[18.0,218.0,1.0,2...|       0.0|        1|\n",
      "|[18.0,218.0,1.0,2...|       0.0|        1|\n",
      "|[18.0,218.0,1.0,2...|       0.0|        1|\n",
      "|[10.0,615.0,0.0,1...|       0.0|        0|\n",
      "|[10.0,615.0,0.0,1...|       0.0|        0|\n",
      "|[10.0,615.0,0.0,1...|       0.0|        0|\n",
      "|[10.0,615.0,0.0,1...|       0.0|        0|\n",
      "|[10.0,98.0,0.0,1....|       1.0|        1|\n",
      "|[10.0,98.0,0.0,1....|       1.0|        1|\n",
      "|[10.0,98.0,0.0,1....|       1.0|        1|\n",
      "+--------------------+----------+---------+\n",
      "only showing top 20 rows\n",
      "\n"
     ]
    }
   ],
   "source": [
    "pred_df = pipelineModel.transform(test)\n",
    "pred_df.select(\"features\", \"prediction\", \"trueLabel\").show()"
   ]
  },
  {
   "cell_type": "code",
   "execution_count": 145,
   "id": "425a9eb7-ab2a-4cd6-aa00-845eef503327",
   "metadata": {},
   "outputs": [
    {
     "name": "stdout",
     "output_type": "stream",
     "text": [
      "+---------+------------------+\n",
      "|   metric|             value|\n",
      "+---------+------------------+\n",
      "|       TP|           68876.0|\n",
      "|       FP|           14652.0|\n",
      "|       TN|          123929.0|\n",
      "|       FN|           52765.0|\n",
      "|Precision|0.8245857676467772|\n",
      "|   Recall|0.5662235594906323|\n",
      "|       F1|0.6714074738386403|\n",
      "+---------+------------------+\n",
      "\n"
     ]
    }
   ],
   "source": [
    "tp = float(pred_df.filter(\"prediction == 1.0 AND truelabel == 1\").count())\n",
    "fp = float(pred_df.filter(\"prediction == 1.0 AND truelabel == 0\").count())\n",
    "tn = float(pred_df.filter(\"prediction == 0.0 AND truelabel == 0\").count())\n",
    "fn = float(pred_df.filter(\"prediction == 0.0 AND truelabel == 1\").count())\n",
    "pr = tp / (tp + fp)\n",
    "re = tp / (tp + fn)\n",
    "metrics = spark.createDataFrame([\n",
    " (\"TP\", tp),\n",
    " (\"FP\", fp),\n",
    " (\"TN\", tn),\n",
    " (\"FN\", fn),\n",
    " (\"Precision\", pr),\n",
    " (\"Recall\", re),\n",
    " (\"F1\", 2*pr*re/(re+pr))],[\"metric\", \"value\"])\n",
    "metrics.show()"
   ]
  },
  {
   "cell_type": "code",
   "execution_count": 146,
   "id": "a353a54c-5b2e-442e-a938-6c46aae05030",
   "metadata": {},
   "outputs": [
    {
     "name": "stdout",
     "output_type": "stream",
     "text": [
      "AUR =  0.8459216213225724\n"
     ]
    }
   ],
   "source": [
    "evaluator = BinaryClassificationEvaluator(labelCol=\"trueLabel\", rawPredictionCol=\"rawPrediction\", metricName=\"areaUnderROC\")\n",
    "aur = evaluator.evaluate(pred_df)\n",
    "print (\"AUR = \", aur)"
   ]
  },
  {
   "cell_type": "code",
   "execution_count": 147,
   "id": "e8bab6bc-98bc-41ae-a957-2458fda7497e",
   "metadata": {},
   "outputs": [],
   "source": [
    "paramGrid = ParamGridBuilder().\\\n",
    "    addGrid(lr.maxIter, [30, 40, 60]).\\\n",
    "    addGrid(lr.regParam, [0.6, 0.8, 0.9]).build()\n",
    "cv = CrossValidator(estimator=pipeline, evaluator=BinaryClassificationEvaluator(metricName='areaUnderPR'), estimatorParamMaps=paramGrid, \n",
    "                    numFolds=2)"
   ]
  },
  {
   "cell_type": "code",
   "execution_count": 148,
   "id": "3f8a048f-d7a3-406c-a7d1-4dc86a0f6c52",
   "metadata": {},
   "outputs": [],
   "source": [
    "cv_model = cv.fit(train)"
   ]
  },
  {
   "cell_type": "code",
   "execution_count": 149,
   "id": "986b5adf-a12b-45a3-8f1a-c90925207d19",
   "metadata": {},
   "outputs": [],
   "source": [
    "newPrediction = cv_model.transform(test)"
   ]
  },
  {
   "cell_type": "code",
   "execution_count": 150,
   "id": "7165f2c7-d5a9-4620-b33e-85d547498aac",
   "metadata": {},
   "outputs": [
    {
     "name": "stdout",
     "output_type": "stream",
     "text": [
      "+---------+------------------+\n",
      "|   metric|             value|\n",
      "+---------+------------------+\n",
      "|       TP|           62185.0|\n",
      "|       FP|           12443.0|\n",
      "|       TN|          126138.0|\n",
      "|       FN|           59456.0|\n",
      "|Precision|0.8332663343517178|\n",
      "|   Recall|0.5112174349109264|\n",
      "|       F1|0.6336711350238704|\n",
      "+---------+------------------+\n",
      "\n"
     ]
    }
   ],
   "source": [
    "# Recalculate confusion matrix\n",
    "tp2 = float(newPrediction.filter(\"prediction == 1.0 AND truelabel == 1\").count())\n",
    "fp2 = float(newPrediction.filter(\"prediction == 1.0 AND truelabel == 0\").count())\n",
    "tn2 = float(newPrediction.filter(\"prediction == 0.0 AND truelabel == 0\").count())\n",
    "fn2 = float(newPrediction.filter(\"prediction == 0.0 AND truelabel == 1\").count())\n",
    "pr2 = tp2 / (tp2 + fp2)\n",
    "re2 = tp2 / (tp2 + fn2)\n",
    "metrics2 = spark.createDataFrame([\n",
    " (\"TP\", tp2),\n",
    " (\"FP\", fp2),\n",
    " (\"TN\", tn2),\n",
    " (\"FN\", fn2),\n",
    " (\"Precision\", pr2),\n",
    " (\"Recall\", re2),\n",
    " (\"F1\", 2*pr2*re2/(re2+pr2))],[\"metric\", \"value\"])\n",
    "metrics2.show()"
   ]
  },
  {
   "cell_type": "code",
   "execution_count": 151,
   "id": "ca161135-09d7-44bb-9baf-7acce93da990",
   "metadata": {},
   "outputs": [
    {
     "name": "stdout",
     "output_type": "stream",
     "text": [
      "AUR2 =  0.7107143957230468\n"
     ]
    }
   ],
   "source": [
    "# Recalculate the Area Under ROC\n",
    "evaluator2 = BinaryClassificationEvaluator(labelCol=\"trueLabel\", rawPredictionCol=\"prediction\", metricName=\"areaUnderROC\")\n",
    "aur2 = evaluator2.evaluate(newPrediction)\n",
    "print( \"AUR2 = \", aur2)"
   ]
  }
 ],
 "metadata": {
  "kernelspec": {
   "display_name": "Python 3 (ipykernel)",
   "language": "python",
   "name": "python3"
  },
  "language_info": {
   "codemirror_mode": {
    "name": "ipython",
    "version": 3
   },
   "file_extension": ".py",
   "mimetype": "text/x-python",
   "name": "python",
   "nbconvert_exporter": "python",
   "pygments_lexer": "ipython3",
   "version": "3.10.8"
  }
 },
 "nbformat": 4,
 "nbformat_minor": 5
}
